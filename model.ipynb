{
 "cells": [
  {
   "cell_type": "code",
   "execution_count": 1,
   "id": "2e90a9d3-5d31-418d-b814-a616eb967ffa",
   "metadata": {},
   "outputs": [],
   "source": [
    "import seaborn as sns\n",
    "import matplotlib.pyplot as plt\n",
    "\n",
    "import pandas as pd\n",
    "import numpy as np\n",
    "\n",
    "import evaluate as ev\n",
    "import prepare as prep\n",
    "import acquire as ac\n",
    "\n",
    "# importing machine learning libraries\n",
    "from sklearn.ensemble import RandomForestClassifier\n",
    "from sklearn.tree import DecisionTreeClassifier\n",
    "from sklearn.metrics import classification_report\n",
    "from sklearn.preprocessing import MinMaxScaler\n",
    "from sklearn.neighbors import KNeighborsClassifier\n",
    "from sklearn.linear_model import LogisticRegression\n",
    "from xgboost import XGBClassifier\n",
    "from sklearn.preprocessing import PolynomialFeatures\n",
    "\n",
    "from sklearn.preprocessing import LabelEncoder\n",
    "# set seed number to be used for all random states so my results can be duplicated\n",
    "seed=100"
   ]
  },
  {
   "cell_type": "code",
   "execution_count": 99,
   "id": "c3e4421c-2208-43f5-94cf-9298b5f28f28",
   "metadata": {},
   "outputs": [],
   "source": [
    "a = ac.animals()"
   ]
  },
  {
   "cell_type": "code",
   "execution_count": 3,
   "id": "57a55499-75ce-4415-9672-31f2fa2824c2",
   "metadata": {},
   "outputs": [
    {
     "data": {
      "text/html": [
       "<div>\n",
       "<style scoped>\n",
       "    .dataframe tbody tr th:only-of-type {\n",
       "        vertical-align: middle;\n",
       "    }\n",
       "\n",
       "    .dataframe tbody tr th {\n",
       "        vertical-align: top;\n",
       "    }\n",
       "\n",
       "    .dataframe thead th {\n",
       "        text-align: right;\n",
       "    }\n",
       "</style>\n",
       "<table border=\"1\" class=\"dataframe\">\n",
       "  <thead>\n",
       "    <tr style=\"text-align: right;\">\n",
       "      <th></th>\n",
       "      <th>name</th>\n",
       "      <th>outcome_type</th>\n",
       "      <th>animal_type</th>\n",
       "      <th>color</th>\n",
       "      <th>age</th>\n",
       "      <th>gender</th>\n",
       "      <th>neut_spay</th>\n",
       "      <th>condition</th>\n",
       "      <th>breed1</th>\n",
       "      <th>breed2</th>\n",
       "    </tr>\n",
       "  </thead>\n",
       "  <tbody>\n",
       "    <tr>\n",
       "      <th>0</th>\n",
       "      <td>False</td>\n",
       "      <td>Adoption</td>\n",
       "      <td>Dog</td>\n",
       "      <td>Brown/White</td>\n",
       "      <td>180</td>\n",
       "      <td>male</td>\n",
       "      <td>True</td>\n",
       "      <td>Normal</td>\n",
       "      <td>Other</td>\n",
       "      <td>purebred</td>\n",
       "    </tr>\n",
       "    <tr>\n",
       "      <th>1</th>\n",
       "      <td>True</td>\n",
       "      <td>Adoption</td>\n",
       "      <td>Dog</td>\n",
       "      <td>Tan</td>\n",
       "      <td>730</td>\n",
       "      <td>male</td>\n",
       "      <td>True</td>\n",
       "      <td>Normal</td>\n",
       "      <td>Pit Bull</td>\n",
       "      <td>mix</td>\n",
       "    </tr>\n",
       "    <tr>\n",
       "      <th>2</th>\n",
       "      <td>True</td>\n",
       "      <td>Adoption</td>\n",
       "      <td>Dog</td>\n",
       "      <td>Other</td>\n",
       "      <td>120</td>\n",
       "      <td>male</td>\n",
       "      <td>True</td>\n",
       "      <td>Normal</td>\n",
       "      <td>Labrador Retriever</td>\n",
       "      <td>purebred</td>\n",
       "    </tr>\n",
       "    <tr>\n",
       "      <th>3</th>\n",
       "      <td>False</td>\n",
       "      <td>Transfer</td>\n",
       "      <td>Cat</td>\n",
       "      <td>Brown Tabby/White</td>\n",
       "      <td>1095</td>\n",
       "      <td>unk</td>\n",
       "      <td>False</td>\n",
       "      <td>Normal</td>\n",
       "      <td>Domestic Shorthair</td>\n",
       "      <td>mix</td>\n",
       "    </tr>\n",
       "    <tr>\n",
       "      <th>4</th>\n",
       "      <td>False</td>\n",
       "      <td>Transfer</td>\n",
       "      <td>Cat</td>\n",
       "      <td>Black/White</td>\n",
       "      <td>1095</td>\n",
       "      <td>unk</td>\n",
       "      <td>False</td>\n",
       "      <td>Normal</td>\n",
       "      <td>Domestic Shorthair</td>\n",
       "      <td>mix</td>\n",
       "    </tr>\n",
       "  </tbody>\n",
       "</table>\n",
       "</div>"
      ],
      "text/plain": [
       "    name outcome_type animal_type              color   age gender  neut_spay  \\\n",
       "0  False     Adoption         Dog        Brown/White   180   male       True   \n",
       "1   True     Adoption         Dog                Tan   730   male       True   \n",
       "2   True     Adoption         Dog              Other   120   male       True   \n",
       "3  False     Transfer         Cat  Brown Tabby/White  1095    unk      False   \n",
       "4  False     Transfer         Cat        Black/White  1095    unk      False   \n",
       "\n",
       "  condition              breed1    breed2  \n",
       "0    Normal               Other  purebred  \n",
       "1    Normal            Pit Bull       mix  \n",
       "2    Normal  Labrador Retriever  purebred  \n",
       "3    Normal  Domestic Shorthair       mix  \n",
       "4    Normal  Domestic Shorthair       mix  "
      ]
     },
     "execution_count": 3,
     "metadata": {},
     "output_type": "execute_result"
    }
   ],
   "source": [
    "a.head()"
   ]
  },
  {
   "cell_type": "code",
   "execution_count": 4,
   "id": "4a2fc856-b25c-4d3a-a4d0-17e18e4940db",
   "metadata": {},
   "outputs": [
    {
     "name": "stdout",
     "output_type": "stream",
     "text": [
      "(72426, 10) (15520, 10) (15521, 10)\n"
     ]
    }
   ],
   "source": [
    "train, val, test = prep.train_val_test(a, 'outcome_type', stratify=True)"
   ]
  },
  {
   "cell_type": "code",
   "execution_count": 5,
   "id": "94056e8a-56d4-498a-860b-7917b0c6dcd9",
   "metadata": {},
   "outputs": [
    {
     "data": {
      "text/plain": [
       "['age']"
      ]
     },
     "execution_count": 5,
     "metadata": {},
     "output_type": "execute_result"
    }
   ],
   "source": [
    "list(a.select_dtypes('number').columns)"
   ]
  },
  {
   "cell_type": "code",
   "execution_count": 6,
   "id": "4073eb43-e4e1-4fbc-8a64-eb058d35282e",
   "metadata": {},
   "outputs": [],
   "source": [
    "train, val, test = prep.scale(train, val, test, scaled_cols=['age'])"
   ]
  },
  {
   "cell_type": "code",
   "execution_count": 7,
   "id": "d2a4e4d2-5750-48ad-8e6b-a89198dfa156",
   "metadata": {},
   "outputs": [
    {
     "data": {
      "text/html": [
       "<div>\n",
       "<style scoped>\n",
       "    .dataframe tbody tr th:only-of-type {\n",
       "        vertical-align: middle;\n",
       "    }\n",
       "\n",
       "    .dataframe tbody tr th {\n",
       "        vertical-align: top;\n",
       "    }\n",
       "\n",
       "    .dataframe thead th {\n",
       "        text-align: right;\n",
       "    }\n",
       "</style>\n",
       "<table border=\"1\" class=\"dataframe\">\n",
       "  <thead>\n",
       "    <tr style=\"text-align: right;\">\n",
       "      <th></th>\n",
       "      <th>name</th>\n",
       "      <th>outcome_type</th>\n",
       "      <th>animal_type</th>\n",
       "      <th>color</th>\n",
       "      <th>age</th>\n",
       "      <th>gender</th>\n",
       "      <th>neut_spay</th>\n",
       "      <th>condition</th>\n",
       "      <th>breed1</th>\n",
       "      <th>breed2</th>\n",
       "    </tr>\n",
       "  </thead>\n",
       "  <tbody>\n",
       "    <tr>\n",
       "      <th>102324</th>\n",
       "      <td>False</td>\n",
       "      <td>Transfer</td>\n",
       "      <td>Dog</td>\n",
       "      <td>White</td>\n",
       "      <td>1.000000</td>\n",
       "      <td>female</td>\n",
       "      <td>False</td>\n",
       "      <td>Normal</td>\n",
       "      <td>Chihuahua Shorthair</td>\n",
       "      <td>mix</td>\n",
       "    </tr>\n",
       "    <tr>\n",
       "      <th>61026</th>\n",
       "      <td>True</td>\n",
       "      <td>Adoption</td>\n",
       "      <td>Dog</td>\n",
       "      <td>Tan</td>\n",
       "      <td>1.000000</td>\n",
       "      <td>male</td>\n",
       "      <td>True</td>\n",
       "      <td>Normal</td>\n",
       "      <td>Australian Cattle Dog</td>\n",
       "      <td>Cardigan Welsh Corgi</td>\n",
       "    </tr>\n",
       "    <tr>\n",
       "      <th>44543</th>\n",
       "      <td>True</td>\n",
       "      <td>Adoption</td>\n",
       "      <td>Dog</td>\n",
       "      <td>Tricolor</td>\n",
       "      <td>0.314554</td>\n",
       "      <td>female</td>\n",
       "      <td>True</td>\n",
       "      <td>Normal</td>\n",
       "      <td>Chihuahua Shorthair</td>\n",
       "      <td>mix</td>\n",
       "    </tr>\n",
       "    <tr>\n",
       "      <th>49660</th>\n",
       "      <td>True</td>\n",
       "      <td>Return to Owner</td>\n",
       "      <td>Dog</td>\n",
       "      <td>Other</td>\n",
       "      <td>1.000000</td>\n",
       "      <td>male</td>\n",
       "      <td>True</td>\n",
       "      <td>Normal</td>\n",
       "      <td>Jack Russell Terrier</td>\n",
       "      <td>Chihuahua Shorthair</td>\n",
       "    </tr>\n",
       "    <tr>\n",
       "      <th>72159</th>\n",
       "      <td>True</td>\n",
       "      <td>Adoption</td>\n",
       "      <td>Dog</td>\n",
       "      <td>Brown</td>\n",
       "      <td>0.314554</td>\n",
       "      <td>female</td>\n",
       "      <td>True</td>\n",
       "      <td>Normal</td>\n",
       "      <td>Other</td>\n",
       "      <td>mix</td>\n",
       "    </tr>\n",
       "  </tbody>\n",
       "</table>\n",
       "</div>"
      ],
      "text/plain": [
       "         name     outcome_type animal_type     color       age  gender  \\\n",
       "102324  False         Transfer         Dog     White  1.000000  female   \n",
       "61026    True         Adoption         Dog       Tan  1.000000    male   \n",
       "44543    True         Adoption         Dog  Tricolor  0.314554  female   \n",
       "49660    True  Return to Owner         Dog     Other  1.000000    male   \n",
       "72159    True         Adoption         Dog     Brown  0.314554  female   \n",
       "\n",
       "        neut_spay condition                 breed1                breed2  \n",
       "102324      False    Normal    Chihuahua Shorthair                   mix  \n",
       "61026        True    Normal  Australian Cattle Dog  Cardigan Welsh Corgi  \n",
       "44543        True    Normal    Chihuahua Shorthair                   mix  \n",
       "49660        True    Normal   Jack Russell Terrier   Chihuahua Shorthair  \n",
       "72159        True    Normal                  Other                   mix  "
      ]
     },
     "execution_count": 7,
     "metadata": {},
     "output_type": "execute_result"
    }
   ],
   "source": [
    "train.head()"
   ]
  },
  {
   "cell_type": "code",
   "execution_count": 8,
   "id": "90f3415b-f141-4f95-832c-e49a19d3e8d4",
   "metadata": {},
   "outputs": [
    {
     "name": "stdout",
     "output_type": "stream",
     "text": [
      "(72426, 89) (15520, 89) (15521, 89)\n",
      "(72426, 89) (15520, 89) (15521, 89)\n"
     ]
    }
   ],
   "source": [
    "train, val, test = prep.dummies(train, val, test, drop_first=['name', 'gender', 'neut_spay', 'condition'],\n",
    "                                normal_list=['animal_type','color', 'breed1', 'breed2'])\n",
    "\n",
    "print(train.shape, val.shape, test.shape)"
   ]
  },
  {
   "cell_type": "code",
   "execution_count": 9,
   "id": "f018e32a-a80c-4042-8ebc-370944e5ba8c",
   "metadata": {},
   "outputs": [
    {
     "data": {
      "text/html": [
       "<div>\n",
       "<style scoped>\n",
       "    .dataframe tbody tr th:only-of-type {\n",
       "        vertical-align: middle;\n",
       "    }\n",
       "\n",
       "    .dataframe tbody tr th {\n",
       "        vertical-align: top;\n",
       "    }\n",
       "\n",
       "    .dataframe thead th {\n",
       "        text-align: right;\n",
       "    }\n",
       "</style>\n",
       "<table border=\"1\" class=\"dataframe\">\n",
       "  <thead>\n",
       "    <tr style=\"text-align: right;\">\n",
       "      <th></th>\n",
       "      <th>outcome_type</th>\n",
       "      <th>age</th>\n",
       "      <th>name_True</th>\n",
       "      <th>gender_male</th>\n",
       "      <th>gender_unk</th>\n",
       "      <th>neut_spay_True</th>\n",
       "      <th>condition_Normal</th>\n",
       "      <th>animal_type_Bird</th>\n",
       "      <th>animal_type_Cat</th>\n",
       "      <th>animal_type_Dog</th>\n",
       "      <th>...</th>\n",
       "      <th>breed2_Other</th>\n",
       "      <th>breed2_Pit Bull</th>\n",
       "      <th>breed2_Pointer</th>\n",
       "      <th>breed2_Pug</th>\n",
       "      <th>breed2_Rat Terrier</th>\n",
       "      <th>breed2_Rottweiler</th>\n",
       "      <th>breed2_Tan Hound</th>\n",
       "      <th>breed2_Yorkshire Terrier</th>\n",
       "      <th>breed2_mix</th>\n",
       "      <th>breed2_purebred</th>\n",
       "    </tr>\n",
       "  </thead>\n",
       "  <tbody>\n",
       "    <tr>\n",
       "      <th>102324</th>\n",
       "      <td>Transfer</td>\n",
       "      <td>1.000000</td>\n",
       "      <td>0</td>\n",
       "      <td>0</td>\n",
       "      <td>0</td>\n",
       "      <td>0</td>\n",
       "      <td>1</td>\n",
       "      <td>0</td>\n",
       "      <td>0</td>\n",
       "      <td>1</td>\n",
       "      <td>...</td>\n",
       "      <td>0</td>\n",
       "      <td>0</td>\n",
       "      <td>0</td>\n",
       "      <td>0</td>\n",
       "      <td>0</td>\n",
       "      <td>0</td>\n",
       "      <td>0</td>\n",
       "      <td>0</td>\n",
       "      <td>1</td>\n",
       "      <td>0</td>\n",
       "    </tr>\n",
       "    <tr>\n",
       "      <th>61026</th>\n",
       "      <td>Adoption</td>\n",
       "      <td>1.000000</td>\n",
       "      <td>1</td>\n",
       "      <td>1</td>\n",
       "      <td>0</td>\n",
       "      <td>1</td>\n",
       "      <td>1</td>\n",
       "      <td>0</td>\n",
       "      <td>0</td>\n",
       "      <td>1</td>\n",
       "      <td>...</td>\n",
       "      <td>0</td>\n",
       "      <td>0</td>\n",
       "      <td>0</td>\n",
       "      <td>0</td>\n",
       "      <td>0</td>\n",
       "      <td>0</td>\n",
       "      <td>0</td>\n",
       "      <td>0</td>\n",
       "      <td>0</td>\n",
       "      <td>0</td>\n",
       "    </tr>\n",
       "    <tr>\n",
       "      <th>44543</th>\n",
       "      <td>Adoption</td>\n",
       "      <td>0.314554</td>\n",
       "      <td>1</td>\n",
       "      <td>0</td>\n",
       "      <td>0</td>\n",
       "      <td>1</td>\n",
       "      <td>1</td>\n",
       "      <td>0</td>\n",
       "      <td>0</td>\n",
       "      <td>1</td>\n",
       "      <td>...</td>\n",
       "      <td>0</td>\n",
       "      <td>0</td>\n",
       "      <td>0</td>\n",
       "      <td>0</td>\n",
       "      <td>0</td>\n",
       "      <td>0</td>\n",
       "      <td>0</td>\n",
       "      <td>0</td>\n",
       "      <td>1</td>\n",
       "      <td>0</td>\n",
       "    </tr>\n",
       "    <tr>\n",
       "      <th>49660</th>\n",
       "      <td>Return to Owner</td>\n",
       "      <td>1.000000</td>\n",
       "      <td>1</td>\n",
       "      <td>1</td>\n",
       "      <td>0</td>\n",
       "      <td>1</td>\n",
       "      <td>1</td>\n",
       "      <td>0</td>\n",
       "      <td>0</td>\n",
       "      <td>1</td>\n",
       "      <td>...</td>\n",
       "      <td>0</td>\n",
       "      <td>0</td>\n",
       "      <td>0</td>\n",
       "      <td>0</td>\n",
       "      <td>0</td>\n",
       "      <td>0</td>\n",
       "      <td>0</td>\n",
       "      <td>0</td>\n",
       "      <td>0</td>\n",
       "      <td>0</td>\n",
       "    </tr>\n",
       "    <tr>\n",
       "      <th>72159</th>\n",
       "      <td>Adoption</td>\n",
       "      <td>0.314554</td>\n",
       "      <td>1</td>\n",
       "      <td>0</td>\n",
       "      <td>0</td>\n",
       "      <td>1</td>\n",
       "      <td>1</td>\n",
       "      <td>0</td>\n",
       "      <td>0</td>\n",
       "      <td>1</td>\n",
       "      <td>...</td>\n",
       "      <td>0</td>\n",
       "      <td>0</td>\n",
       "      <td>0</td>\n",
       "      <td>0</td>\n",
       "      <td>0</td>\n",
       "      <td>0</td>\n",
       "      <td>0</td>\n",
       "      <td>0</td>\n",
       "      <td>1</td>\n",
       "      <td>0</td>\n",
       "    </tr>\n",
       "  </tbody>\n",
       "</table>\n",
       "<p>5 rows × 89 columns</p>\n",
       "</div>"
      ],
      "text/plain": [
       "           outcome_type       age  name_True  gender_male  gender_unk  \\\n",
       "102324         Transfer  1.000000          0            0           0   \n",
       "61026          Adoption  1.000000          1            1           0   \n",
       "44543          Adoption  0.314554          1            0           0   \n",
       "49660   Return to Owner  1.000000          1            1           0   \n",
       "72159          Adoption  0.314554          1            0           0   \n",
       "\n",
       "        neut_spay_True  condition_Normal  animal_type_Bird  animal_type_Cat  \\\n",
       "102324               0                 1                 0                0   \n",
       "61026                1                 1                 0                0   \n",
       "44543                1                 1                 0                0   \n",
       "49660                1                 1                 0                0   \n",
       "72159                1                 1                 0                0   \n",
       "\n",
       "        animal_type_Dog  ...  breed2_Other  breed2_Pit Bull  breed2_Pointer  \\\n",
       "102324                1  ...             0                0               0   \n",
       "61026                 1  ...             0                0               0   \n",
       "44543                 1  ...             0                0               0   \n",
       "49660                 1  ...             0                0               0   \n",
       "72159                 1  ...             0                0               0   \n",
       "\n",
       "        breed2_Pug  breed2_Rat Terrier  breed2_Rottweiler  breed2_Tan Hound  \\\n",
       "102324           0                   0                  0                 0   \n",
       "61026            0                   0                  0                 0   \n",
       "44543            0                   0                  0                 0   \n",
       "49660            0                   0                  0                 0   \n",
       "72159            0                   0                  0                 0   \n",
       "\n",
       "        breed2_Yorkshire Terrier  breed2_mix  breed2_purebred  \n",
       "102324                         0           1                0  \n",
       "61026                          0           0                0  \n",
       "44543                          0           1                0  \n",
       "49660                          0           0                0  \n",
       "72159                          0           1                0  \n",
       "\n",
       "[5 rows x 89 columns]"
      ]
     },
     "execution_count": 9,
     "metadata": {},
     "output_type": "execute_result"
    }
   ],
   "source": [
    "train.head()"
   ]
  },
  {
   "cell_type": "code",
   "execution_count": 10,
   "id": "3f74b782-7fb2-41e7-9e0f-f6380676c989",
   "metadata": {},
   "outputs": [
    {
     "name": "stdout",
     "output_type": "stream",
     "text": [
      "(72426, 88) (15520, 88) (15521, 88)\n"
     ]
    }
   ],
   "source": [
    "x_train, y_train = prep.split_xy(train,'outcome_type')  # split data to remove the target variable churn\n",
    "x_val, y_val = prep.split_xy(val,'outcome_type')\n",
    "x_test, y_test = prep.split_xy(test,'outcome_type')\n",
    "\n",
    "print(x_train.shape, x_val.shape, x_test.shape)"
   ]
  },
  {
   "cell_type": "code",
   "execution_count": 11,
   "id": "d0a8465a-9de4-4e2c-acba-498c56ef50c8",
   "metadata": {},
   "outputs": [],
   "source": [
    "def preprocess(dataframe):\n",
    "    a = dataframe.copy()\n",
    "    train, val, test = prep.train_val_test(a, 'outcome_type', stratify=True)\n",
    "    train, val, test = prep.scale(train, val, test, scaled_cols=['age'])\n",
    "    train, val, test = prep.dummies(train, val, test, drop_first=['name', 'gender', 'neut_spay', 'condition'],\n",
    "                                                     normal_list=['animal_type','color', 'breed1', 'breed2'])\n",
    "    x_train, y_train = prep.split_xy(train,'outcome_type')  # split data to remove the target variable churn\n",
    "    x_val, y_val = prep.split_xy(val,'outcome_type')\n",
    "    x_test, y_test = prep.split_xy(test,'outcome_type')\n",
    "    return x_train, y_train, x_val, y_val, x_test, y_test, train, val, test"
   ]
  },
  {
   "cell_type": "code",
   "execution_count": 12,
   "id": "aa14532b-ccaf-40dc-9d0d-c433a6f26a48",
   "metadata": {},
   "outputs": [
    {
     "name": "stdout",
     "output_type": "stream",
     "text": [
      "(72426, 10) (15520, 10) (15521, 10)\n",
      "(72426, 89) (15520, 89) (15521, 89)\n"
     ]
    }
   ],
   "source": [
    "x_train, y_train, x_val, y_val, x_test, y_test, train, val, test = preprocess(a)"
   ]
  },
  {
   "cell_type": "markdown",
   "id": "749d1cba-a806-4871-abe1-efb6cafa32ff",
   "metadata": {},
   "source": [
    "# All animals"
   ]
  },
  {
   "cell_type": "code",
   "execution_count": 13,
   "id": "e2bdafeb-703c-4b2e-b12e-75c8a5363871",
   "metadata": {},
   "outputs": [
    {
     "name": "stdout",
     "output_type": "stream",
     "text": [
      "Baseline accuracy is: 43.38%.\n",
      "Baseline recall is: 100.0%.\n",
      "Baseline precision is: 43.38%.\n",
      "\n"
     ]
    }
   ],
   "source": [
    "res = ev.baseline_classification(train, 'outcome_type', 'Adoption')"
   ]
  },
  {
   "cell_type": "code",
   "execution_count": 14,
   "id": "4b573237-9577-4da3-aec9-3d0e6c1253b3",
   "metadata": {},
   "outputs": [
    {
     "data": {
      "text/html": [
       "<div>\n",
       "<style scoped>\n",
       "    .dataframe tbody tr th:only-of-type {\n",
       "        vertical-align: middle;\n",
       "    }\n",
       "\n",
       "    .dataframe tbody tr th {\n",
       "        vertical-align: top;\n",
       "    }\n",
       "\n",
       "    .dataframe thead th {\n",
       "        text-align: right;\n",
       "    }\n",
       "</style>\n",
       "<table border=\"1\" class=\"dataframe\">\n",
       "  <thead>\n",
       "    <tr style=\"text-align: right;\">\n",
       "      <th></th>\n",
       "      <th>outcome_type</th>\n",
       "      <th>baseline</th>\n",
       "    </tr>\n",
       "  </thead>\n",
       "  <tbody>\n",
       "    <tr>\n",
       "      <th>102324</th>\n",
       "      <td>Transfer</td>\n",
       "      <td>Adoption</td>\n",
       "    </tr>\n",
       "    <tr>\n",
       "      <th>61026</th>\n",
       "      <td>Adoption</td>\n",
       "      <td>Adoption</td>\n",
       "    </tr>\n",
       "    <tr>\n",
       "      <th>44543</th>\n",
       "      <td>Adoption</td>\n",
       "      <td>Adoption</td>\n",
       "    </tr>\n",
       "    <tr>\n",
       "      <th>49660</th>\n",
       "      <td>Return to Owner</td>\n",
       "      <td>Adoption</td>\n",
       "    </tr>\n",
       "    <tr>\n",
       "      <th>72159</th>\n",
       "      <td>Adoption</td>\n",
       "      <td>Adoption</td>\n",
       "    </tr>\n",
       "  </tbody>\n",
       "</table>\n",
       "</div>"
      ],
      "text/plain": [
       "           outcome_type  baseline\n",
       "102324         Transfer  Adoption\n",
       "61026          Adoption  Adoption\n",
       "44543          Adoption  Adoption\n",
       "49660   Return to Owner  Adoption\n",
       "72159          Adoption  Adoption"
      ]
     },
     "execution_count": 14,
     "metadata": {},
     "output_type": "execute_result"
    }
   ],
   "source": [
    "res.head()"
   ]
  },
  {
   "cell_type": "code",
   "execution_count": 15,
   "id": "b50022d6-a676-480d-9d19-477b6fb393da",
   "metadata": {},
   "outputs": [
    {
     "name": "stdout",
     "output_type": "stream",
     "text": [
      "0.7851876397978627\n",
      "0.6933634020618556\n"
     ]
    }
   ],
   "source": [
    "clf = DecisionTreeClassifier(random_state=100)\n",
    "clf.fit(x_train, y_train)\n",
    "print(clf.score(x_train, y_train))\n",
    "print(clf.score(x_val, y_val))"
   ]
  },
  {
   "cell_type": "code",
   "execution_count": 16,
   "id": "9880517a-32e4-4230-9e6a-e3cb970170a5",
   "metadata": {},
   "outputs": [],
   "source": [
    "preds = clf.predict(x_train)"
   ]
  },
  {
   "cell_type": "code",
   "execution_count": 17,
   "id": "f0814a89-1fa3-4599-9ed2-c9e3dee620bc",
   "metadata": {},
   "outputs": [],
   "source": [
    "res['preds'] = preds"
   ]
  },
  {
   "cell_type": "code",
   "execution_count": 18,
   "id": "9c6aa2bd-dadb-42d7-a39d-eace8922c580",
   "metadata": {},
   "outputs": [
    {
     "name": "stdout",
     "output_type": "stream",
     "text": [
      "0.7851876397978627\n",
      "0.6978737113402061\n"
     ]
    }
   ],
   "source": [
    "rf1 = RandomForestClassifier(random_state=seed)\n",
    "ev.train_model(rf1, x_train, y_train, x_val, y_val)"
   ]
  },
  {
   "cell_type": "code",
   "execution_count": 19,
   "id": "049a7813-17a3-4f1f-b5eb-f1af82bc624c",
   "metadata": {},
   "outputs": [
    {
     "name": "stdout",
     "output_type": "stream",
     "text": [
      "0.7148123602021373\n",
      "0.6735180412371135\n"
     ]
    }
   ],
   "source": [
    "knn = KNeighborsClassifier()\n",
    "ev.train_model(knn, x_train, y_train, x_val, y_val)"
   ]
  },
  {
   "cell_type": "code",
   "execution_count": 20,
   "id": "22635b79-62a0-4283-95de-cacbed736861",
   "metadata": {},
   "outputs": [],
   "source": [
    "le = LabelEncoder()\n",
    "y_train_encoded = le.fit_transform(y_train)\n",
    "y_val_encoded = le.fit_transform(y_val)"
   ]
  },
  {
   "cell_type": "code",
   "execution_count": 21,
   "id": "625951a2-e0d9-445f-b4bd-d8057df134b4",
   "metadata": {},
   "outputs": [
    {
     "data": {
      "text/plain": [
       "array([5, 0, 0, ..., 5, 5, 0])"
      ]
     },
     "execution_count": 21,
     "metadata": {},
     "output_type": "execute_result"
    }
   ],
   "source": [
    "y_train_encoded"
   ]
  },
  {
   "cell_type": "code",
   "execution_count": 22,
   "id": "b1b08e17-fe03-48c6-8a2c-7aac7bef198e",
   "metadata": {},
   "outputs": [
    {
     "name": "stdout",
     "output_type": "stream",
     "text": [
      "0.7309529726893657\n",
      "0.7177835051546392\n"
     ]
    }
   ],
   "source": [
    "xgb = XGBClassifier()\n",
    "\n",
    "ev.train_model(xgb, x_train, y_train_encoded, x_val, y_val_encoded)"
   ]
  },
  {
   "cell_type": "code",
   "execution_count": 23,
   "id": "67af52a2-d884-4785-905d-d294847b9d61",
   "metadata": {},
   "outputs": [],
   "source": [
    "poly = PolynomialFeatures()\n",
    "x_train_s = poly.fit_transform(x_train)\n",
    "x_val_s = poly.transform(x_val)"
   ]
  },
  {
   "cell_type": "code",
   "execution_count": 24,
   "id": "80a8871b-2ff1-495d-90c5-c83040c64e92",
   "metadata": {},
   "outputs": [
    {
     "name": "stdout",
     "output_type": "stream",
     "text": [
      "0.7851876397978627\n",
      "0.6990979381443299\n"
     ]
    }
   ],
   "source": [
    "clf = DecisionTreeClassifier(random_state=100)\n",
    "\n",
    "ev.train_model(rf1, x_train_s, y_train, x_val_s, y_val)"
   ]
  },
  {
   "cell_type": "code",
   "execution_count": null,
   "id": "b2c2c4fc-46f4-43a6-8873-4f9eee58187a",
   "metadata": {},
   "outputs": [],
   "source": []
  },
  {
   "cell_type": "markdown",
   "id": "e55c59f9-12a6-4510-8eb8-9c0735a9d409",
   "metadata": {},
   "source": [
    "# Dogs"
   ]
  },
  {
   "cell_type": "code",
   "execution_count": 71,
   "id": "5026eaa3-67eb-4815-b705-0f517c98d0dc",
   "metadata": {},
   "outputs": [],
   "source": [
    "def preprocess_dog(dataframe):\n",
    "    a = dataframe.copy()\n",
    "    train, val, test = prep.train_val_test(a, 'outcome_type', stratify=True)\n",
    "    train, val, test = prep.scale(train, val, test, scaled_cols=['age'])\n",
    "    train, val, test = prep.dummies(train, val, test, drop_first=['name', 'gender', 'neut_spay', 'condition'],\n",
    "                                                     normal_list=['animal_type', 'breed1', 'breed2'])\n",
    "    x_train, y_train = prep.split_xy(train,'outcome_type')  # split data to remove the target variable churn\n",
    "    x_val, y_val = prep.split_xy(val,'outcome_type')\n",
    "    x_test, y_test = prep.split_xy(test,'outcome_type')\n",
    "    return x_train, y_train, x_val, y_val, x_test, y_test, train, val, test"
   ]
  },
  {
   "cell_type": "code",
   "execution_count": 100,
   "id": "103ff26d-4f50-4958-9505-dd07f5bc570c",
   "metadata": {},
   "outputs": [],
   "source": [
    "bird = a[a.animal_type == 'Bird']\n",
    "dog = a[a.animal_type == 'Dog']\n",
    "cat = a[a.animal_type == 'Cat']\n",
    "other = a[(a.animal_type == 'Livestock') | (a.animal_type == 'Other')]"
   ]
  },
  {
   "cell_type": "code",
   "execution_count": 73,
   "id": "9b3b780b-3f9a-41bf-befe-49b3bfd6f39f",
   "metadata": {},
   "outputs": [],
   "source": [
    "dog = dog.drop(columns='color')"
   ]
  },
  {
   "cell_type": "code",
   "execution_count": 74,
   "id": "ae28e2f6-628c-4365-81e1-8bff2e153f48",
   "metadata": {},
   "outputs": [
    {
     "name": "stdout",
     "output_type": "stream",
     "text": [
      "(41300, 9) (8850, 9) (8850, 9)\n",
      "(41300, 59) (8850, 59) (8850, 59)\n"
     ]
    }
   ],
   "source": [
    "x_train, y_train, x_val, y_val, x_test, y_test, train, val, test = preprocess_dog(dog)"
   ]
  },
  {
   "cell_type": "code",
   "execution_count": 75,
   "id": "7b610fa9-4f5a-4087-918e-caae7c70f66f",
   "metadata": {},
   "outputs": [
    {
     "name": "stdout",
     "output_type": "stream",
     "text": [
      "Baseline accuracy is: 46.31%.\n",
      "Baseline recall is: 100.0%.\n",
      "Baseline precision is: 46.31%.\n",
      "\n"
     ]
    }
   ],
   "source": [
    "res = ev.baseline_classification(train, 'outcome_type', 'Adoption')"
   ]
  },
  {
   "cell_type": "code",
   "execution_count": 76,
   "id": "bd27baf5-7359-4554-ad75-a01ca33e2f58",
   "metadata": {},
   "outputs": [
    {
     "name": "stdout",
     "output_type": "stream",
     "text": [
      "0.6753268765133172\n",
      "0.6274576271186441\n"
     ]
    }
   ],
   "source": [
    "clf = DecisionTreeClassifier(random_state=100)\n",
    "ev.train_model(clf, x_train, y_train, x_val, y_val)"
   ]
  },
  {
   "cell_type": "code",
   "execution_count": 77,
   "id": "de548ab4-b173-4442-9163-1e8270998891",
   "metadata": {},
   "outputs": [
    {
     "name": "stdout",
     "output_type": "stream",
     "text": [
      "0.6753026634382566\n",
      "0.628361581920904\n"
     ]
    }
   ],
   "source": [
    "rf1 = RandomForestClassifier(random_state=seed)\n",
    "ev.train_model(rf1, x_train, y_train, x_val, y_val)"
   ]
  },
  {
   "cell_type": "code",
   "execution_count": 78,
   "id": "d8539739-b0c6-4b4f-aa61-85bc9f446238",
   "metadata": {},
   "outputs": [
    {
     "name": "stdout",
     "output_type": "stream",
     "text": [
      "0.6064406779661017\n",
      "0.5833898305084746\n"
     ]
    }
   ],
   "source": [
    "knn = KNeighborsClassifier()\n",
    "ev.train_model(knn, x_train, y_train, x_val, y_val)"
   ]
  },
  {
   "cell_type": "code",
   "execution_count": 79,
   "id": "6aa8afd6-0ad8-4054-9a6d-a2b5c0df697b",
   "metadata": {},
   "outputs": [
    {
     "name": "stdout",
     "output_type": "stream",
     "text": [
      "0.6516707021791768\n",
      "0.639774011299435\n"
     ]
    }
   ],
   "source": [
    "le = LabelEncoder()\n",
    "y_train_encoded = le.fit_transform(y_train)\n",
    "y_val_encoded = le.fit_transform(y_val)\n",
    "\n",
    "xgb = XGBClassifier()\n",
    "\n",
    "ev.train_model(xgb, x_train, y_train_encoded, x_val, y_val_encoded)"
   ]
  },
  {
   "cell_type": "markdown",
   "id": "f3262dae-ec68-400f-8319-2dc2acd4e190",
   "metadata": {},
   "source": [
    "# Cats"
   ]
  },
  {
   "cell_type": "code",
   "execution_count": 80,
   "id": "b957acad-fd80-4ac0-b14a-f7b73ee0f9c7",
   "metadata": {},
   "outputs": [],
   "source": [
    "def preprocess_cat(dataframe):\n",
    "    a = dataframe.copy()\n",
    "    train, val, test = prep.train_val_test(a, 'outcome_type', stratify=True)\n",
    "    train, val, test = prep.scale(train, val, test, scaled_cols=['age'])\n",
    "    train, val, test = prep.dummies(train, val, test, drop_first=['name', 'gender', 'neut_spay', 'condition'],\n",
    "                                                     normal_list=['animal_type', 'breed1', 'breed2'])\n",
    "    x_train, y_train = prep.split_xy(train,'outcome_type')  # split data to remove the target variable churn\n",
    "    x_val, y_val = prep.split_xy(val,'outcome_type')\n",
    "    x_test, y_test = prep.split_xy(test,'outcome_type')\n",
    "    return x_train, y_train, x_val, y_val, x_test, y_test, train, val, test"
   ]
  },
  {
   "cell_type": "code",
   "execution_count": 82,
   "id": "dcd45a79-ab07-424f-8e56-bc8ab53113e0",
   "metadata": {},
   "outputs": [],
   "source": [
    "cat = cat.drop(columns='color')"
   ]
  },
  {
   "cell_type": "code",
   "execution_count": 84,
   "id": "5a5db5b1-e9d7-4055-ad3c-73d3a1e7b68e",
   "metadata": {},
   "outputs": [
    {
     "name": "stdout",
     "output_type": "stream",
     "text": [
      "(26964, 9) (5778, 9) (5778, 9)\n",
      "(26964, 16) (5778, 16) (5778, 16)\n"
     ]
    }
   ],
   "source": [
    "x_train, y_train, x_val, y_val, x_test, y_test, train, val, test = preprocess_cat(cat)"
   ]
  },
  {
   "cell_type": "code",
   "execution_count": 33,
   "id": "762c136d-47e3-43e5-b704-74aecf9b9b9d",
   "metadata": {},
   "outputs": [
    {
     "data": {
      "text/html": [
       "<div>\n",
       "<style scoped>\n",
       "    .dataframe tbody tr th:only-of-type {\n",
       "        vertical-align: middle;\n",
       "    }\n",
       "\n",
       "    .dataframe tbody tr th {\n",
       "        vertical-align: top;\n",
       "    }\n",
       "\n",
       "    .dataframe thead th {\n",
       "        text-align: right;\n",
       "    }\n",
       "</style>\n",
       "<table border=\"1\" class=\"dataframe\">\n",
       "  <thead>\n",
       "    <tr style=\"text-align: right;\">\n",
       "      <th></th>\n",
       "      <th>outcome_type</th>\n",
       "      <th>age</th>\n",
       "      <th>name_True</th>\n",
       "      <th>gender_male</th>\n",
       "      <th>gender_unk</th>\n",
       "      <th>neut_spay_True</th>\n",
       "      <th>condition_Normal</th>\n",
       "      <th>animal_type_Cat</th>\n",
       "      <th>color_Black</th>\n",
       "      <th>color_Black/Brown</th>\n",
       "      <th>...</th>\n",
       "      <th>color_White/Black</th>\n",
       "      <th>color_White/Brown</th>\n",
       "      <th>breed1_Domestic Longhair</th>\n",
       "      <th>breed1_Domestic Medium Hair</th>\n",
       "      <th>breed1_Domestic Shorthair</th>\n",
       "      <th>breed1_Other</th>\n",
       "      <th>breed1_Siamese</th>\n",
       "      <th>breed2_Other</th>\n",
       "      <th>breed2_mix</th>\n",
       "      <th>breed2_purebred</th>\n",
       "    </tr>\n",
       "  </thead>\n",
       "  <tbody>\n",
       "    <tr>\n",
       "      <th>79345</th>\n",
       "      <td>Transfer</td>\n",
       "      <td>0.028169</td>\n",
       "      <td>1</td>\n",
       "      <td>0</td>\n",
       "      <td>0</td>\n",
       "      <td>1</td>\n",
       "      <td>1</td>\n",
       "      <td>1</td>\n",
       "      <td>0</td>\n",
       "      <td>0</td>\n",
       "      <td>...</td>\n",
       "      <td>0</td>\n",
       "      <td>0</td>\n",
       "      <td>0</td>\n",
       "      <td>0</td>\n",
       "      <td>1</td>\n",
       "      <td>0</td>\n",
       "      <td>0</td>\n",
       "      <td>0</td>\n",
       "      <td>1</td>\n",
       "      <td>0</td>\n",
       "    </tr>\n",
       "    <tr>\n",
       "      <th>82764</th>\n",
       "      <td>Adoption</td>\n",
       "      <td>1.000000</td>\n",
       "      <td>1</td>\n",
       "      <td>0</td>\n",
       "      <td>0</td>\n",
       "      <td>1</td>\n",
       "      <td>1</td>\n",
       "      <td>1</td>\n",
       "      <td>0</td>\n",
       "      <td>0</td>\n",
       "      <td>...</td>\n",
       "      <td>0</td>\n",
       "      <td>0</td>\n",
       "      <td>0</td>\n",
       "      <td>0</td>\n",
       "      <td>1</td>\n",
       "      <td>0</td>\n",
       "      <td>0</td>\n",
       "      <td>0</td>\n",
       "      <td>1</td>\n",
       "      <td>0</td>\n",
       "    </tr>\n",
       "    <tr>\n",
       "      <th>40071</th>\n",
       "      <td>Adoption</td>\n",
       "      <td>1.000000</td>\n",
       "      <td>1</td>\n",
       "      <td>1</td>\n",
       "      <td>0</td>\n",
       "      <td>1</td>\n",
       "      <td>1</td>\n",
       "      <td>1</td>\n",
       "      <td>0</td>\n",
       "      <td>0</td>\n",
       "      <td>...</td>\n",
       "      <td>1</td>\n",
       "      <td>0</td>\n",
       "      <td>0</td>\n",
       "      <td>0</td>\n",
       "      <td>1</td>\n",
       "      <td>0</td>\n",
       "      <td>0</td>\n",
       "      <td>0</td>\n",
       "      <td>1</td>\n",
       "      <td>0</td>\n",
       "    </tr>\n",
       "    <tr>\n",
       "      <th>89761</th>\n",
       "      <td>Transfer</td>\n",
       "      <td>0.314554</td>\n",
       "      <td>1</td>\n",
       "      <td>0</td>\n",
       "      <td>0</td>\n",
       "      <td>0</td>\n",
       "      <td>1</td>\n",
       "      <td>1</td>\n",
       "      <td>1</td>\n",
       "      <td>0</td>\n",
       "      <td>...</td>\n",
       "      <td>0</td>\n",
       "      <td>0</td>\n",
       "      <td>0</td>\n",
       "      <td>0</td>\n",
       "      <td>1</td>\n",
       "      <td>0</td>\n",
       "      <td>0</td>\n",
       "      <td>0</td>\n",
       "      <td>1</td>\n",
       "      <td>0</td>\n",
       "    </tr>\n",
       "    <tr>\n",
       "      <th>19646</th>\n",
       "      <td>Adoption</td>\n",
       "      <td>0.000000</td>\n",
       "      <td>0</td>\n",
       "      <td>1</td>\n",
       "      <td>0</td>\n",
       "      <td>1</td>\n",
       "      <td>1</td>\n",
       "      <td>1</td>\n",
       "      <td>0</td>\n",
       "      <td>0</td>\n",
       "      <td>...</td>\n",
       "      <td>0</td>\n",
       "      <td>0</td>\n",
       "      <td>0</td>\n",
       "      <td>0</td>\n",
       "      <td>1</td>\n",
       "      <td>0</td>\n",
       "      <td>0</td>\n",
       "      <td>0</td>\n",
       "      <td>1</td>\n",
       "      <td>0</td>\n",
       "    </tr>\n",
       "  </tbody>\n",
       "</table>\n",
       "<p>5 rows × 35 columns</p>\n",
       "</div>"
      ],
      "text/plain": [
       "      outcome_type       age  name_True  gender_male  gender_unk  \\\n",
       "79345     Transfer  0.028169          1            0           0   \n",
       "82764     Adoption  1.000000          1            0           0   \n",
       "40071     Adoption  1.000000          1            1           0   \n",
       "89761     Transfer  0.314554          1            0           0   \n",
       "19646     Adoption  0.000000          0            1           0   \n",
       "\n",
       "       neut_spay_True  condition_Normal  animal_type_Cat  color_Black  \\\n",
       "79345               1                 1                1            0   \n",
       "82764               1                 1                1            0   \n",
       "40071               1                 1                1            0   \n",
       "89761               0                 1                1            1   \n",
       "19646               1                 1                1            0   \n",
       "\n",
       "       color_Black/Brown  ...  color_White/Black  color_White/Brown  \\\n",
       "79345                  0  ...                  0                  0   \n",
       "82764                  0  ...                  0                  0   \n",
       "40071                  0  ...                  1                  0   \n",
       "89761                  0  ...                  0                  0   \n",
       "19646                  0  ...                  0                  0   \n",
       "\n",
       "       breed1_Domestic Longhair  breed1_Domestic Medium Hair  \\\n",
       "79345                         0                            0   \n",
       "82764                         0                            0   \n",
       "40071                         0                            0   \n",
       "89761                         0                            0   \n",
       "19646                         0                            0   \n",
       "\n",
       "       breed1_Domestic Shorthair  breed1_Other  breed1_Siamese  breed2_Other  \\\n",
       "79345                          1             0               0             0   \n",
       "82764                          1             0               0             0   \n",
       "40071                          1             0               0             0   \n",
       "89761                          1             0               0             0   \n",
       "19646                          1             0               0             0   \n",
       "\n",
       "       breed2_mix  breed2_purebred  \n",
       "79345           1                0  \n",
       "82764           1                0  \n",
       "40071           1                0  \n",
       "89761           1                0  \n",
       "19646           1                0  \n",
       "\n",
       "[5 rows x 35 columns]"
      ]
     },
     "execution_count": 33,
     "metadata": {},
     "output_type": "execute_result"
    }
   ],
   "source": [
    "train.head()"
   ]
  },
  {
   "cell_type": "code",
   "execution_count": 85,
   "id": "10439ed5-8be7-47ec-9fa2-ecdd50d48d61",
   "metadata": {},
   "outputs": [
    {
     "name": "stdout",
     "output_type": "stream",
     "text": [
      "Baseline accuracy is: 44.64%.\n",
      "Baseline recall is: 0.0%.\n",
      "Baseline precision is: 0.0%.\n",
      "\n"
     ]
    }
   ],
   "source": [
    "res = ev.baseline_classification(train, 'outcome_type', 'Adoption')"
   ]
  },
  {
   "cell_type": "code",
   "execution_count": 86,
   "id": "fcc599d8-6dbe-4ee3-ac55-b22a481241bb",
   "metadata": {},
   "outputs": [],
   "source": [
    "#x_train = x_train.drop(columns='color_Tricolor')"
   ]
  },
  {
   "cell_type": "code",
   "execution_count": 87,
   "id": "a73c47fe-f493-446e-8af9-c088249b0ea3",
   "metadata": {},
   "outputs": [
    {
     "name": "stdout",
     "output_type": "stream",
     "text": [
      "0.8246180091974484\n",
      "0.8153340256143995\n"
     ]
    }
   ],
   "source": [
    "clf = DecisionTreeClassifier(random_state=100)\n",
    "ev.train_model(clf, x_train, y_train, x_val, y_val)"
   ]
  },
  {
   "cell_type": "code",
   "execution_count": 88,
   "id": "be41d7f4-1651-443e-9703-9e3009071949",
   "metadata": {},
   "outputs": [
    {
     "name": "stdout",
     "output_type": "stream",
     "text": [
      "0.8246180091974484\n",
      "0.8156801661474559\n"
     ]
    }
   ],
   "source": [
    "rf1 = RandomForestClassifier(random_state=seed)\n",
    "ev.train_model(rf1, x_train, y_train, x_val, y_val)"
   ]
  },
  {
   "cell_type": "code",
   "execution_count": 89,
   "id": "e1e1867e-d456-4a78-be26-e41cdaec74dc",
   "metadata": {},
   "outputs": [
    {
     "name": "stdout",
     "output_type": "stream",
     "text": [
      "0.8090787716955942\n",
      "0.8068535825545171\n"
     ]
    }
   ],
   "source": [
    "knn = KNeighborsClassifier()\n",
    "ev.train_model(knn, x_train, y_train, x_val, y_val)"
   ]
  },
  {
   "cell_type": "code",
   "execution_count": 90,
   "id": "0814c371-d871-493a-8476-41d8fd4b2b65",
   "metadata": {},
   "outputs": [
    {
     "name": "stdout",
     "output_type": "stream",
     "text": [
      "0.8238762794837561\n",
      "0.8161993769470405\n"
     ]
    }
   ],
   "source": [
    "le = LabelEncoder()\n",
    "y_train_encoded = le.fit_transform(y_train)\n",
    "y_val_encoded = le.fit_transform(y_val)\n",
    "\n",
    "xgb = XGBClassifier()\n",
    "\n",
    "ev.train_model(xgb, x_train, y_train_encoded, x_val, y_val_encoded)"
   ]
  },
  {
   "cell_type": "markdown",
   "id": "929ecc4e-ed39-48e2-b6c3-2b7b6ce6dab5",
   "metadata": {},
   "source": [
    "# Bird"
   ]
  },
  {
   "cell_type": "code",
   "execution_count": 101,
   "id": "4b75efba-b3f4-4092-bd74-1b224441ff94",
   "metadata": {},
   "outputs": [],
   "source": [
    "bird = bird.drop(columns='color')"
   ]
  },
  {
   "cell_type": "code",
   "execution_count": 102,
   "id": "09c11154-91cb-48e3-b697-b5a1e1470f1b",
   "metadata": {},
   "outputs": [
    {
     "name": "stdout",
     "output_type": "stream",
     "text": [
      "(334, 9) (72, 9) (72, 9)\n",
      "(334, 10) (72, 10) (72, 10)\n"
     ]
    }
   ],
   "source": [
    "x_train, y_train, x_val, y_val, x_test, y_test, train, val, test = preprocess_dog(bird)"
   ]
  },
  {
   "cell_type": "code",
   "execution_count": 103,
   "id": "e7a428ea-4462-4b90-bbec-cc706b2cc482",
   "metadata": {},
   "outputs": [
    {
     "name": "stdout",
     "output_type": "stream",
     "text": [
      "Baseline accuracy is: 36.83%.\n",
      "Baseline recall is: 100.0%.\n",
      "Baseline precision is: 36.83%.\n",
      "\n"
     ]
    }
   ],
   "source": [
    "res = ev.baseline_classification(train, 'outcome_type', 'Adoption')"
   ]
  },
  {
   "cell_type": "code",
   "execution_count": 104,
   "id": "9b2b31d2-09e9-48f5-98c0-f525b2727683",
   "metadata": {},
   "outputs": [
    {
     "name": "stdout",
     "output_type": "stream",
     "text": [
      "0.718562874251497\n",
      "0.5138888888888888\n"
     ]
    }
   ],
   "source": [
    "clf = DecisionTreeClassifier(random_state=100)\n",
    "ev.train_model(clf, x_train, y_train, x_val, y_val)"
   ]
  },
  {
   "cell_type": "code",
   "execution_count": 105,
   "id": "9ed3fcc9-e747-4b1f-8a5f-8ed5cc4c6e57",
   "metadata": {},
   "outputs": [
    {
     "name": "stdout",
     "output_type": "stream",
     "text": [
      "0.718562874251497\n",
      "0.5694444444444444\n"
     ]
    }
   ],
   "source": [
    "rf1 = RandomForestClassifier(random_state=seed)\n",
    "ev.train_model(rf1, x_train, y_train, x_val, y_val)"
   ]
  },
  {
   "cell_type": "code",
   "execution_count": 106,
   "id": "7391026d-c806-4f2a-a9c6-d32fbfec3fa8",
   "metadata": {},
   "outputs": [
    {
     "name": "stdout",
     "output_type": "stream",
     "text": [
      "0.6586826347305389\n",
      "0.5694444444444444\n"
     ]
    }
   ],
   "source": [
    "knn = KNeighborsClassifier()\n",
    "ev.train_model(knn, x_train, y_train, x_val, y_val)"
   ]
  },
  {
   "cell_type": "code",
   "execution_count": 107,
   "id": "766b4925-9b2d-45cc-86ad-22583ffa2887",
   "metadata": {},
   "outputs": [
    {
     "name": "stdout",
     "output_type": "stream",
     "text": [
      "0.7155688622754491\n",
      "0.5277777777777778\n"
     ]
    }
   ],
   "source": [
    "le = LabelEncoder()\n",
    "y_train_encoded = le.fit_transform(y_train)\n",
    "y_val_encoded = le.fit_transform(y_val)\n",
    "\n",
    "xgb = XGBClassifier()\n",
    "\n",
    "ev.train_model(xgb, x_train, y_train_encoded, x_val, y_val_encoded)"
   ]
  },
  {
   "cell_type": "markdown",
   "id": "31a413a9-33e2-485f-ba46-eebd4fa4d636",
   "metadata": {},
   "source": [
    "# Other"
   ]
  },
  {
   "cell_type": "code",
   "execution_count": 64,
   "id": "90b72be4-35b4-4f3d-a5de-8088004770e7",
   "metadata": {},
   "outputs": [],
   "source": [
    "other = other.drop(columns='color')"
   ]
  },
  {
   "cell_type": "code",
   "execution_count": 66,
   "id": "cb801c88-e9fa-4c56-aed4-faaf5e9a275f",
   "metadata": {},
   "outputs": [],
   "source": [
    "def preprocess_other(dataframe):\n",
    "    a = dataframe.copy()\n",
    "    train, val, test = prep.train_val_test(a, 'outcome_type', stratify=True)\n",
    "    train, val, test = prep.scale(train, val, test, scaled_cols=['age'])\n",
    "    train, val, test = prep.dummies(train, val, test, drop_first=['name', 'gender', 'neut_spay', 'condition'],\n",
    "                                                     normal_list=['animal_type', 'breed1', 'breed2'])\n",
    "    x_train, y_train = prep.split_xy(train,'outcome_type')  # split data to remove the target variable churn\n",
    "    x_val, y_val = prep.split_xy(val,'outcome_type')\n",
    "    x_test, y_test = prep.split_xy(test,'outcome_type')\n",
    "    return x_train, y_train, x_val, y_val, x_test, y_test, train, val, test"
   ]
  },
  {
   "cell_type": "code",
   "execution_count": 92,
   "id": "b3be054f-b3ec-4139-b5f3-0298d12bf0e9",
   "metadata": {},
   "outputs": [
    {
     "name": "stdout",
     "output_type": "stream",
     "text": [
      "(3828, 9) (820, 9) (821, 9)\n",
      "(3828, 14) (820, 14) (821, 14)\n"
     ]
    }
   ],
   "source": [
    "x_train, y_train, x_val, y_val, x_test, y_test, train, val, test = preprocess_other(other)"
   ]
  },
  {
   "cell_type": "code",
   "execution_count": 68,
   "id": "26e0d087-4e28-4c58-9b23-75c27a928078",
   "metadata": {},
   "outputs": [
    {
     "name": "stdout",
     "output_type": "stream",
     "text": [
      "Baseline accuracy is: 70.45%.\n",
      "Baseline recall is: 0.0%.\n",
      "Baseline precision is: 0.0%.\n",
      "\n"
     ]
    }
   ],
   "source": [
    "res = ev.baseline_classification(train, 'outcome_type', 'Adoption')"
   ]
  },
  {
   "cell_type": "code",
   "execution_count": 69,
   "id": "aa50a2dc-f0a5-42ca-9fec-9b1a72b11133",
   "metadata": {},
   "outputs": [
    {
     "data": {
      "text/html": [
       "<div>\n",
       "<style scoped>\n",
       "    .dataframe tbody tr th:only-of-type {\n",
       "        vertical-align: middle;\n",
       "    }\n",
       "\n",
       "    .dataframe tbody tr th {\n",
       "        vertical-align: top;\n",
       "    }\n",
       "\n",
       "    .dataframe thead th {\n",
       "        text-align: right;\n",
       "    }\n",
       "</style>\n",
       "<table border=\"1\" class=\"dataframe\">\n",
       "  <thead>\n",
       "    <tr style=\"text-align: right;\">\n",
       "      <th></th>\n",
       "      <th>outcome_type</th>\n",
       "      <th>baseline</th>\n",
       "    </tr>\n",
       "  </thead>\n",
       "  <tbody>\n",
       "    <tr>\n",
       "      <th>40662</th>\n",
       "      <td>Euthanasia</td>\n",
       "      <td>Euthanasia</td>\n",
       "    </tr>\n",
       "    <tr>\n",
       "      <th>41788</th>\n",
       "      <td>Euthanasia</td>\n",
       "      <td>Euthanasia</td>\n",
       "    </tr>\n",
       "    <tr>\n",
       "      <th>3490</th>\n",
       "      <td>Adoption</td>\n",
       "      <td>Euthanasia</td>\n",
       "    </tr>\n",
       "    <tr>\n",
       "      <th>49616</th>\n",
       "      <td>Euthanasia</td>\n",
       "      <td>Euthanasia</td>\n",
       "    </tr>\n",
       "    <tr>\n",
       "      <th>13071</th>\n",
       "      <td>Adoption</td>\n",
       "      <td>Euthanasia</td>\n",
       "    </tr>\n",
       "  </tbody>\n",
       "</table>\n",
       "</div>"
      ],
      "text/plain": [
       "      outcome_type    baseline\n",
       "40662   Euthanasia  Euthanasia\n",
       "41788   Euthanasia  Euthanasia\n",
       "3490      Adoption  Euthanasia\n",
       "49616   Euthanasia  Euthanasia\n",
       "13071     Adoption  Euthanasia"
      ]
     },
     "execution_count": 69,
     "metadata": {},
     "output_type": "execute_result"
    }
   ],
   "source": [
    "res.head()"
   ]
  },
  {
   "cell_type": "code",
   "execution_count": 62,
   "id": "59748dce-56b1-4285-a787-801dd8412d9b",
   "metadata": {},
   "outputs": [],
   "source": [
    "#x_train = x_train.drop(columns=['color_Tortie','color_Tan/White', 'color_Tan', 'color_Tan/White', 'color_Black/Tan'])\n",
    "#x_val = x_val.drop(columns=['color_Tan/White', 'color_Tan', 'color_Tortie','color_Tan/White', 'color_Black/Tan'])"
   ]
  },
  {
   "cell_type": "code",
   "execution_count": 70,
   "id": "49f44a1a-a713-4ec6-b119-0ceecac6cdc7",
   "metadata": {},
   "outputs": [
    {
     "name": "stdout",
     "output_type": "stream",
     "text": [
      "0.9098746081504702\n",
      "0.881851400730816\n"
     ]
    }
   ],
   "source": [
    "clf = DecisionTreeClassifier(random_state=100)\n",
    "ev.train_model(clf, x_train, y_train, x_test, y_test)"
   ]
  },
  {
   "cell_type": "code",
   "execution_count": 93,
   "id": "877af757-629e-40f4-b4b6-206c779c0cd6",
   "metadata": {},
   "outputs": [
    {
     "name": "stdout",
     "output_type": "stream",
     "text": [
      "0.9098746081504702\n",
      "0.8853658536585366\n"
     ]
    }
   ],
   "source": [
    "clf = DecisionTreeClassifier(random_state=100)\n",
    "ev.train_model(clf, x_train, y_train, x_val, y_val)"
   ]
  },
  {
   "cell_type": "code",
   "execution_count": 94,
   "id": "be73b9c4-52dc-4cb0-b7bc-055f587b983a",
   "metadata": {},
   "outputs": [
    {
     "name": "stdout",
     "output_type": "stream",
     "text": [
      "0.9096133751306165\n",
      "0.8865853658536585\n"
     ]
    }
   ],
   "source": [
    "le = LabelEncoder()\n",
    "y_train_encoded = le.fit_transform(y_train)\n",
    "y_val_encoded = le.fit_transform(y_val)\n",
    "\n",
    "xgb = XGBClassifier()\n",
    "\n",
    "ev.train_model(xgb, x_train, y_train_encoded, x_val, y_val_encoded)"
   ]
  },
  {
   "cell_type": "code",
   "execution_count": null,
   "id": "b86813e0-2393-408a-b812-946f9db38eec",
   "metadata": {},
   "outputs": [],
   "source": []
  }
 ],
 "metadata": {
  "kernelspec": {
   "display_name": "Python 3 (ipykernel)",
   "language": "python",
   "name": "python3"
  },
  "language_info": {
   "codemirror_mode": {
    "name": "ipython",
    "version": 3
   },
   "file_extension": ".py",
   "mimetype": "text/x-python",
   "name": "python",
   "nbconvert_exporter": "python",
   "pygments_lexer": "ipython3",
   "version": "3.10.9"
  }
 },
 "nbformat": 4,
 "nbformat_minor": 5
}
