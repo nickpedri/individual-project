{
 "cells": [
  {
   "cell_type": "code",
   "execution_count": 1,
   "id": "2e90a9d3-5d31-418d-b814-a616eb967ffa",
   "metadata": {},
   "outputs": [],
   "source": [
    "import seaborn as sns\n",
    "import matplotlib.pyplot as plt\n",
    "\n",
    "import pandas as pd\n",
    "import numpy as np\n",
    "\n",
    "import evaluate as ev\n",
    "import prepare as prep\n",
    "import acquire as ac"
   ]
  },
  {
   "cell_type": "code",
   "execution_count": 2,
   "id": "c3e4421c-2208-43f5-94cf-9298b5f28f28",
   "metadata": {},
   "outputs": [],
   "source": [
    "a = ac.animals()"
   ]
  },
  {
   "cell_type": "code",
   "execution_count": null,
   "id": "57a55499-75ce-4415-9672-31f2fa2824c2",
   "metadata": {},
   "outputs": [],
   "source": []
  }
 ],
 "metadata": {
  "kernelspec": {
   "display_name": "Python 3 (ipykernel)",
   "language": "python",
   "name": "python3"
  },
  "language_info": {
   "codemirror_mode": {
    "name": "ipython",
    "version": 3
   },
   "file_extension": ".py",
   "mimetype": "text/x-python",
   "name": "python",
   "nbconvert_exporter": "python",
   "pygments_lexer": "ipython3",
   "version": "3.10.9"
  }
 },
 "nbformat": 4,
 "nbformat_minor": 5
}
